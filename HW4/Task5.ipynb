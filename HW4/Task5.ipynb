{
 "cells": [
  {
   "cell_type": "code",
   "execution_count": 30,
   "metadata": {},
   "outputs": [],
   "source": [
    "import pandas as pd\n",
    "import numpy as np\n",
    "from sklearn.model_selection import train_test_split\n",
    "from sklearn.preprocessing import StandardScaler\n",
    "from sklearn.svm import SVC\n",
    "from sklearn.metrics import accuracy_score\n",
    "\n",
    "# Load the Sonar dataset\n",
    "df = pd.read_csv(\"sonar_csv.csv\")"
   ]
  },
  {
   "cell_type": "code",
   "execution_count": 31,
   "metadata": {},
   "outputs": [],
   "source": [
    "# Split the dataset into features (X) and target (y)\n",
    "X = df.iloc[:, :-1].values\n",
    "y = df.iloc[:, -1].values\n",
    "\n",
    "# Encode target labels ('R' and 'M')\n",
    "from sklearn.preprocessing import LabelEncoder\n",
    "le = LabelEncoder()\n",
    "y = le.fit_transform(y)"
   ]
  },
  {
   "cell_type": "code",
   "execution_count": 32,
   "metadata": {},
   "outputs": [],
   "source": [
    "# Split the dataset into train (80%) and test (20%) sets\n",
    "X_train, X_test, y_train, y_test = train_test_split(X, y, test_size=0.2, random_state=42, stratify=y)\n",
    "\n",
    "# Standardize the features\n",
    "scaler = StandardScaler()\n",
    "X_train = scaler.fit_transform(X_train)\n",
    "X_test = scaler.transform(X_test)"
   ]
  },
  {
   "cell_type": "code",
   "execution_count": 33,
   "metadata": {},
   "outputs": [
    {
     "data": {
      "text/html": [
       "<div>\n",
       "<style scoped>\n",
       "    .dataframe tbody tr th:only-of-type {\n",
       "        vertical-align: middle;\n",
       "    }\n",
       "\n",
       "    .dataframe tbody tr th {\n",
       "        vertical-align: top;\n",
       "    }\n",
       "\n",
       "    .dataframe thead th {\n",
       "        text-align: right;\n",
       "    }\n",
       "</style>\n",
       "<table border=\"1\" class=\"dataframe\">\n",
       "  <thead>\n",
       "    <tr style=\"text-align: right;\">\n",
       "      <th></th>\n",
       "      <th>SVM kernel</th>\n",
       "      <th>Kernel parameter Value</th>\n",
       "      <th>Classification Accuracy on Train Set</th>\n",
       "      <th>Classification Accuracy on Test Set</th>\n",
       "    </tr>\n",
       "  </thead>\n",
       "  <tbody>\n",
       "    <tr>\n",
       "      <th>0</th>\n",
       "      <td>linear</td>\n",
       "      <td>-</td>\n",
       "      <td>0.951807</td>\n",
       "      <td>0.761905</td>\n",
       "    </tr>\n",
       "    <tr>\n",
       "      <th>1</th>\n",
       "      <td>poly</td>\n",
       "      <td>3</td>\n",
       "      <td>0.987952</td>\n",
       "      <td>0.785714</td>\n",
       "    </tr>\n",
       "    <tr>\n",
       "      <th>2</th>\n",
       "      <td>rbf</td>\n",
       "      <td>1</td>\n",
       "      <td>0.993976</td>\n",
       "      <td>0.857143</td>\n",
       "    </tr>\n",
       "  </tbody>\n",
       "</table>\n",
       "</div>"
      ],
      "text/plain": [
       "  SVM kernel Kernel parameter Value  Classification Accuracy on Train Set  \\\n",
       "0     linear                      -                              0.951807   \n",
       "1       poly                      3                              0.987952   \n",
       "2        rbf                      1                              0.993976   \n",
       "\n",
       "   Classification Accuracy on Test Set  \n",
       "0                             0.761905  \n",
       "1                             0.785714  \n",
       "2                             0.857143  "
      ]
     },
     "execution_count": 33,
     "metadata": {},
     "output_type": "execute_result"
    }
   ],
   "source": [
    "# Define a list to hold the results\n",
    "results = []\n",
    "\n",
    "# Function to train and evaluate SVM models\n",
    "def evaluate_svm(kernel_type, param_value=None):\n",
    "    if kernel_type == \"poly\":\n",
    "        model = SVC(kernel=kernel_type, degree=param_value, C=1)\n",
    "    elif kernel_type == \"rbf\":\n",
    "        model = SVC(kernel=kernel_type, C=param_value)\n",
    "    else:\n",
    "        model = SVC(kernel=kernel_type, C=1)\n",
    "    \n",
    "    # Train the model\n",
    "    model.fit(X_train, y_train)\n",
    "    \n",
    "    # Evaluate on both train and test sets\n",
    "    train_acc = accuracy_score(y_train, model.predict(X_train))\n",
    "    test_acc = accuracy_score(y_test, model.predict(X_test))\n",
    "    \n",
    "    # Append results to the list\n",
    "    results.append({\n",
    "        \"SVM kernel\": kernel_type,\n",
    "        \"Kernel parameter Value\": param_value if param_value else \"-\",\n",
    "        \"Classification Accuracy on Train Set\": train_acc,\n",
    "        \"Classification Accuracy on Test Set\": test_acc\n",
    "    })\n",
    "\n",
    "# Evaluate models with different kernels and parameters\n",
    "evaluate_svm(\"linear\")\n",
    "evaluate_svm(\"poly\", param_value=3)  # Polynomial kernel of degree 3\n",
    "evaluate_svm(\"rbf\", param_value=1)   # RBF kernel with C=1\n",
    "\n",
    "# Create a DataFrame to display the results\n",
    "results_df = pd.DataFrame(results)\n",
    "\n",
    "# Print the DataFrame\n",
    "results_df"
   ]
  }
 ],
 "metadata": {
  "kernelspec": {
   "display_name": "base",
   "language": "python",
   "name": "python3"
  },
  "language_info": {
   "codemirror_mode": {
    "name": "ipython",
    "version": 3
   },
   "file_extension": ".py",
   "mimetype": "text/x-python",
   "name": "python",
   "nbconvert_exporter": "python",
   "pygments_lexer": "ipython3",
   "version": "3.12.4"
  }
 },
 "nbformat": 4,
 "nbformat_minor": 2
}
