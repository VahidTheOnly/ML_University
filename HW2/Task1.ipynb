{
 "cells": [
  {
   "cell_type": "code",
   "execution_count": 1,
   "metadata": {},
   "outputs": [],
   "source": [
    "import numpy as np\n",
    "import matplotlib.pyplot as plt"
   ]
  },
  {
   "cell_type": "code",
   "execution_count": 2,
   "metadata": {},
   "outputs": [],
   "source": [
    "A_plus = np.array([[1, 1], [0, 2], [3, 0]])\n",
    "A_minus = np.array([[-2, -1], [0, -2]])"
   ]
  },
  {
   "cell_type": "code",
   "execution_count": 3,
   "metadata": {},
   "outputs": [
    {
     "data": {
      "text/plain": [
       "<matplotlib.collections.PathCollection at 0x1a7d5712150>"
      ]
     },
     "execution_count": 3,
     "metadata": {},
     "output_type": "execute_result"
    },
    {
     "data": {
      "image/png": "[encoded data removed]",
      "text/plain": [
       "<Figure size 640x480 with 1 Axes>"
      ]
     },
     "metadata": {},
     "output_type": "display_data"
    }
   ],
   "source": [
    "plt.scatter(A_plus[:, 0], A_plus[:, 1])\n",
    "plt.scatter(A_minus[:, 0], A_minus[:, 1])"
   ]
  },
  {
   "cell_type": "code",
   "execution_count": 4,
   "metadata": {},
   "outputs": [
    {
     "data": {
      "text/plain": [
       "array([[1.],\n",
       "       [1.],\n",
       "       [1.],\n",
       "       [0.],\n",
       "       [0.]])"
      ]
     },
     "execution_count": 4,
     "metadata": {},
     "output_type": "execute_result"
    }
   ],
   "source": [
    "A = np.vstack([A_plus, A_minus])\n",
    "data = np.hstack([A, np.ones((A_plus.shape[0] + A_minus.shape[0], 1))])\n",
    "y_true = np.hstack([np.ones((A_plus.shape[0])), np.zeros((A_minus.shape[0]))]).reshape(-1, 1)\n",
    "y_true"
   ]
  },
  {
   "cell_type": "code",
   "execution_count": 5,
   "metadata": {},
   "outputs": [],
   "source": [
    "weight = np.zeros((data.shape[1], 1))"
   ]
  },
  {
   "cell_type": "code",
   "execution_count": 6,
   "metadata": {},
   "outputs": [],
   "source": [
    "def sigmoid(z):\n",
    "    return 1 / (1 + np.exp(-z))"
   ]
  },
  {
   "cell_type": "code",
   "execution_count": 7,
   "metadata": {},
   "outputs": [],
   "source": [
    "def forward_prop(data, weight):\n",
    "    y_pred = sigmoid(data @ weight)\n",
    "    return y_pred"
   ]
  },
  {
   "cell_type": "code",
   "execution_count": 8,
   "metadata": {},
   "outputs": [],
   "source": [
    "def logloss(y_true, y_pred):\n",
    "    epsilon = 1e-15  # To prevent log(0)\n",
    "    y_pred = np.clip(y_pred, epsilon, 1 - epsilon)  # Clipping predictions to avoid log(0)\n",
    "    loss = -np.mean(y_true * np.log(y_pred) + (1 - y_true) * np.log(1 - y_pred))\n",
    "    return loss\n",
    "\n",
    "def drivative_cost_weight(data, y_true, y_pred):\n",
    "    m = len(y_true)\n",
    "    gradient = -1/m * data.T.dot(y_true - y_pred)\n",
    "    return gradient"
   ]
  },
  {
   "cell_type": "code",
   "execution_count": 9,
   "metadata": {},
   "outputs": [],
   "source": [
    "def gradient_descent(djdw, weight, learning_rate):\n",
    "    weight = weight - learning_rate * djdw\n",
    "    return weight"
   ]
  },
  {
   "cell_type": "code",
   "execution_count": 10,
   "metadata": {},
   "outputs": [],
   "source": [
    "def predict(data, weight):\n",
    "    y_pred = forward_prop(data, weight)\n",
    "    predictions = y_pred > 0.5 \n",
    "    return predictions.astype('int')"
   ]
  },
  {
   "cell_type": "code",
   "execution_count": 11,
   "metadata": {},
   "outputs": [],
   "source": [
    "def model(data, y_true, weight, learning_rate):\n",
    "    y_pred = forward_prop(data, weight)\n",
    "    cost = logloss(y_true, y_pred)\n",
    "    djdw = drivative_cost_weight(data, y_true, y_pred)\n",
    "    weight = gradient_descent(djdw, weight, learning_rate)\n",
    "    return weight, cost"
   ]
  },
  {
   "cell_type": "code",
   "execution_count": 12,
   "metadata": {},
   "outputs": [
    {
     "name": "stdout",
     "output_type": "stream",
     "text": [
      "epoch: 0, cost:0.6931471805599453\n",
      "epoch: 10, cost:0.03414383576457349\n",
      "epoch: 20, cost:0.01788821189307104\n",
      "epoch: 30, cost:0.012151754773909281\n",
      "epoch: 40, cost:0.009212001909746272\n",
      "epoch: 50, cost:0.0074224721782655935\n",
      "epoch: 60, cost:0.006217759924308032\n",
      "epoch: 70, cost:0.005351082630803991\n",
      "epoch: 80, cost:0.004697475102636169\n",
      "epoch: 90, cost:0.004186852860403447\n"
     ]
    }
   ],
   "source": [
    "epochs = 100\n",
    "learning_rate = 1\n",
    "\n",
    "for epoch in range(epochs):\n",
    "    weight, cost = model(data, y_true, weight, learning_rate)\n",
    "    if epoch % 10 == 0:\n",
    "        print(f'epoch: {epoch}, cost:{cost}')"
   ]
  },
  {
   "cell_type": "code",
   "execution_count": 13,
   "metadata": {},
   "outputs": [
    {
     "data": {
      "text/plain": [
       "array([[1],\n",
       "       [1],\n",
       "       [1],\n",
       "       [0],\n",
       "       [0]])"
      ]
     },
     "execution_count": 13,
     "metadata": {},
     "output_type": "execute_result"
    }
   ],
   "source": [
    "y_pred = predict(data, weight)\n",
    "y_pred"
   ]
  },
  {
   "cell_type": "code",
   "execution_count": 14,
   "metadata": {},
   "outputs": [],
   "source": [
    "x_0 = np.linspace(data[:, 0].min()-1, data[:, 0].max()+1, 100)\n",
    "x_1 = np.linspace(data[:, 1].min()-1, data[:, 1].max()+1, 100)\n",
    "grid_0, grid_1 = np.meshgrid(x_0, x_1)\n",
    "X_grid = np.hstack([grid_0.reshape(-1, 1), grid_1.reshape(-1, 1), np.ones((10000, 1))])"
   ]
  },
  {
   "cell_type": "code",
   "execution_count": 15,
   "metadata": {},
   "outputs": [],
   "source": [
    "y_grid = predict(X_grid, weight).reshape(grid_0.shape)"
   ]
  },
  {
   "cell_type": "code",
   "execution_count": 16,
   "metadata": {},
   "outputs": [
    {
     "data": {
      "image/png": "[encoded data removed]",
      "text/plain": [
       "<Figure size 800x600 with 1 Axes>"
      ]
     },
     "metadata": {},
     "output_type": "display_data"
    }
   ],
   "source": [
    "plt.figure(figsize=(8, 6))\n",
    "plt.contourf(grid_0, grid_1, y_grid, cmap='RdBu', alpha=0.6) \n",
    "plt.scatter(A_plus[:, 0], A_plus[:, 1], label='Class A+', color='blue', edgecolor='k')\n",
    "plt.scatter(A_minus[:, 0], A_minus[:, 1], label='Class A-', color='orange', edgecolor='k')\n",
    "plt.xlabel('X Coordinate') \n",
    "plt.ylabel('Y Coordinate') \n",
    "plt.title('Decision Boundary and Data Points') \n",
    "plt.legend()\n",
    "plt.show()"
   ]
  },
  {
   "cell_type": "code",
   "execution_count": 17,
   "metadata": {},
   "outputs": [
    {
     "data": {
      "text/plain": [
       "array([[1.96024293],\n",
       "       [2.74340128],\n",
       "       [0.35860876]])"
      ]
     },
     "execution_count": 17,
     "metadata": {},
     "output_type": "execute_result"
    }
   ],
   "source": [
    "weight"
   ]
  }
 ],
 "metadata": {
  "kernelspec": {
   "display_name": "base",
   "language": "python",
   "name": "python3"
  },
  "language_info": {
   "codemirror_mode": {
    "name": "ipython",
    "version": 3
   },
   "file_extension": ".py",
   "mimetype": "text/x-python",
   "name": "python",
   "nbconvert_exporter": "python",
   "pygments_lexer": "ipython3",
   "version": "3.12.4"
  }
 },
 "nbformat": 4,
 "nbformat_minor": 2
}
